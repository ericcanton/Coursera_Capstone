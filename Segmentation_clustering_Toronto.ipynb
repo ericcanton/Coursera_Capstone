{
 "cells": [
  {
   "cell_type": "markdown",
   "metadata": {},
   "source": [
    "# Segmentation and Clustering of Toronto Neighborhoods\n",
    "This notebook will do some segmentation of Toronto neighborhoods. Eric Canton wrote this as part of completing the IBM Data Science Capstone. \n",
    "1. Initially, we will get geographic data from <a href=\"https://en.wikipedia.org/wiki/List_of_postal_codes_of_Canada:_M\">this Wikipedia table</a> using Wikipedia's REST API. These data are loaded into a DataFrame.\n",
    "2. We will then use the Foursquare API to gather some info about local coffee shops (excluding big names like Starbucks, Dunkin, and Caribou) and gyms by postal code. \n",
    "3. These data we will combine to cluster neighborhoods by similarity. "
   ]
  },
  {
   "cell_type": "code",
   "execution_count": 1,
   "metadata": {},
   "outputs": [],
   "source": [
    "# Essentials\n",
    "import pandas as pd\n",
    "import numpy as np\n",
    "\n",
    "# JSON and REST API\n",
    "import requests # Python library for HTTP/API requests.\n",
    "from bs4 import BeautifulSoup # This package is awesome!\n",
    "import json\n",
    "from pandas.io.json import json_normalize # Transform JSON into DataFrames\n",
    "\n",
    "# Clustering and map generation\n",
    "import folium\n",
    "from sklearn.cluster import KMeans"
   ]
  },
  {
   "cell_type": "markdown",
   "metadata": {},
   "source": [
    "## 1: Get the table JSON from Wikipedia and parse it into a DataFrame\n",
    "Wikipedia has a <a href=\"https://www.mediawiki.org/wiki/API:Main_page\">really helpful description of their API</a> which is pretty easy to understand.  \n",
    "\n",
    "One does not need to authenticate to use their API for page requests. The main reference I used was the <a href=\"https://www.mediawiki.org/wiki/API:Parsing_wikitext\">API: Parsing wikitext page</a>.  \n",
    "\n",
    "__Note!__ Some things about the \"List of postal codes...\" table have changed since the Coursera assignment was written. For example, postal code M5A no longer appears twice, and there are no entries that have a borough but no neighbourhood. This didn't really simplify anything, and I'm confident my code would produce the desired output with the old table version. I'm concerned that I'll be evaluated based on these non-existent features being processed correctly in my Notebook, though."
   ]
  },
  {
   "cell_type": "code",
   "execution_count": 8,
   "metadata": {},
   "outputs": [],
   "source": [
    "# Build the url and request parameters\n",
    "URL = \"https://en.wikipedia.org/w/api.php\"\n",
    "\n",
    "# Specifying prop=wikitext gives the simpler editing format used when editing Wikipedia source. \n",
    "PARAMS = {\n",
    "    \"action\" : \"parse\",\n",
    "    \"page\"   : \"List_of_postal_codes_of_Canada:_M\",\n",
    "    \"prop\"   : \"text\",\n",
    "    \"format\" : \"json\"\n",
    "}\n",
    "\n",
    "M = requests.get(url=URL, params=PARAMS).json()\n",
    "page = BeautifulSoup(M['parse']['text']['*'], \"html.parser\")"
   ]
  },
  {
   "cell_type": "code",
   "execution_count": 18,
   "metadata": {},
   "outputs": [],
   "source": [
    "table = page.find_all('td')"
   ]
  },
  {
   "cell_type": "code",
   "execution_count": 82,
   "metadata": {},
   "outputs": [],
   "source": [
    "pc = [] # postal code\n",
    "br = [] # borough\n",
    "nb = [] # neighborhood\n",
    "\n",
    "# Loop through the table we scraped, taking 3 elements at a time.\n",
    "# (The table has 3 columns.)\n",
    "for j in range(int((len(table)-2)/3)):\n",
    "    # There's another table at the bottom of the Wikipedia page not relevant for us. \n",
    "    # The extra stuff doesn't have an \"M\" as the first character, so we just throw those away.\n",
    "    if table[3*j].text.find(\"M\") != 0:\n",
    "        continue # Skip this one\n",
    "    \n",
    "    # Skip any rows whose Borough is 'Not assigned'.\n",
    "    if table[3*j+1].text == 'Not assigned':\n",
    "        continue\n",
    "        \n",
    "    \n",
    "    pc.append(table[3*j].text)\n",
    "    br.append(table[3*j+1].text)\n",
    "    \n",
    "    # There are newlines at the end of the names. Trim these off before appending.\n",
    "    nbhd = table[3*j+2].text\n",
    "    nb.append(nbhd[:nbhd.find(\"\\n\")]) # Slice the neighborhood string off when \"\\n\" is found!"
   ]
  },
  {
   "cell_type": "markdown",
   "metadata": {},
   "source": [
    "Now we're going to start building our DataFrame. The first thing we need to do is collate the neighborhoods by postcode, which we accomplish by first making a dictionary whose keys come from the <code>pc</code> list. We'll then loop over this dictionary to make a _new_ dictionary that we can cast into the desired DataFrame. More comments in the code detail when these are happening. "
   ]
  },
  {
   "cell_type": "code",
   "execution_count": 133,
   "metadata": {},
   "outputs": [],
   "source": [
    "# A given element of this dictionary will be ['Neighbourhood(s)', 'Borough'] pairs. \n",
    "# We're going to use this to group neighborhoods by their postal code/borough. \n",
    "nbhds_brs_by_pc = dict.fromkeys(set(pc), 0) \n",
    "\n",
    "# Something I discovered while debugging this step: if we initialize the dictionary \n",
    "# this way and have [] as the \"default\" value (instead of 0), every key in the dict\n",
    "# actually points to **the same** array. Thus, if you add a neighborhood to nbhds_brs_by_pc['M5A'] \n",
    "# it adds it to every postcode simultaneously. We end up with one huge string with \n",
    "# every neighborhood comma-separated."
   ]
  },
  {
   "cell_type": "code",
   "execution_count": 134,
   "metadata": {},
   "outputs": [],
   "source": [
    "# zip creates an iterator spitting out things of the form ('M3A', 'Parkwoods', 'North York')\n",
    "# This makes for some ugly multi-indices, so for ease of reference/grading:\n",
    "#    post_nbhd_br[0] is the postal code\n",
    "#    post_nbhd_br[1] is the neighborhood name\n",
    "#    post_nbhd_br[2] is the borough name\n",
    "for post_nbhd_br in zip(pc, nb, br): \n",
    "    postal_code = post_nbhd_br[0]\n",
    "    nbhd_name = post_nbhd_br[1]\n",
    "    br_name = post_nbhd_br[2]\n",
    "    if nbhds_brs_by_pc[postal_code] == 0: # This postcode still has 0 for its entry, i.e. first time we encountered it.\n",
    "        nbhds_brs_by_pc[postal_code] = [nbhd_name, br_name] # Turn it into an array with the format we want.\n",
    "    else: # Not our first time at this postal code\n",
    "        nbhds_brs_by_pc[postal_code][0] += \", \" + nbhd_name # Makes a comma-separated string."
   ]
  },
  {
   "cell_type": "code",
   "execution_count": 126,
   "metadata": {},
   "outputs": [],
   "source": [
    "# zip creates an iterator spitting out things of the form ('M3A', 'Parkwoods', 'North York')\n",
    "# This makes for some ugly multi-indices, so for ease of reference/grading:\n",
    "#    post_nbhd_br[0] is the postal code\n",
    "#    post_nbhd_br[1] is the neighborhood name\n",
    "#    post_nbhd_br[2] is the borough name\n",
    "for post_nbhd_br in zip(pc, nb, br): \n",
    "    postal_code = post_nbhd_br[0]\n",
    "    nbhd_name = post_nbhd_br[1]\n",
    "    br_name = post_nbhd_br[2]\n",
    "    if len(nbhds_brs_by_pc[postal_code]) == 0: # This postcode still has \"\" for its entry, i.e. first time we encountered it.\n",
    "        nbhds_brs_by_pc[postal_code] = nbhd_name\n",
    "        #nbhds_brs_by_pc[postal_code][1] = br_name # Only need to add this once. It shouldn't appear in the else below!\n",
    "    else:\n",
    "        nbhds_brs_by_pc[postal_code] += \", \" + nbhd_name # Makes a comma-separated string."
   ]
  },
  {
   "cell_type": "code",
   "execution_count": 135,
   "metadata": {},
   "outputs": [
    {
     "data": {
      "text/plain": [
       "['Rouge, Malvern', 'Scarborough']"
      ]
     },
     "execution_count": 135,
     "metadata": {},
     "output_type": "execute_result"
    }
   ],
   "source": [
    "# Check that the output is what we expect.\n",
    "# Indeed, postcode M1B corresponds to the Rouge and Malvern nbhds of Scarborough!\n",
    "nbhds_brs_by_pc['M1B']"
   ]
  },
  {
   "cell_type": "markdown",
   "metadata": {},
   "source": [
    "### Create the DataFrame\n",
    "To close out this section, we're going to make the DataFrame from our parsed rows. My preferred method for this is to first create a dictionary, which is then easy to cast to a DataFrame. "
   ]
  },
  {
   "cell_type": "code",
   "execution_count": 93,
   "metadata": {},
   "outputs": [],
   "source": [
    "table_dict = {'PostalCode':[], 'Borough':[], 'Neighbourhood':[]}"
   ]
  },
  {
   "cell_type": "code",
   "execution_count": 138,
   "metadata": {},
   "outputs": [],
   "source": [
    "for k in nbhds_brs_by_pc.keys():\n",
    "    table_dict['PostalCode'].append(k)\n",
    "    table_dict['Neighbourhood'].append(nbhds_brs_by_pc[k][0])\n",
    "    table_dict['Borough'].append(nbhds_brs_by_pc[k][1])"
   ]
  },
  {
   "cell_type": "code",
   "execution_count": 140,
   "metadata": {},
   "outputs": [],
   "source": [
    "table_df = pd.DataFrame.from_dict(table_dict)"
   ]
  },
  {
   "cell_type": "code",
   "execution_count": 141,
   "metadata": {},
   "outputs": [
    {
     "data": {
      "text/html": [
       "<div>\n",
       "<style scoped>\n",
       "    .dataframe tbody tr th:only-of-type {\n",
       "        vertical-align: middle;\n",
       "    }\n",
       "\n",
       "    .dataframe tbody tr th {\n",
       "        vertical-align: top;\n",
       "    }\n",
       "\n",
       "    .dataframe thead th {\n",
       "        text-align: right;\n",
       "    }\n",
       "</style>\n",
       "<table border=\"1\" class=\"dataframe\">\n",
       "  <thead>\n",
       "    <tr style=\"text-align: right;\">\n",
       "      <th></th>\n",
       "      <th>PostalCode</th>\n",
       "      <th>Borough</th>\n",
       "      <th>Neighbourhood</th>\n",
       "    </tr>\n",
       "  </thead>\n",
       "  <tbody>\n",
       "    <tr>\n",
       "      <th>0</th>\n",
       "      <td>M3H</td>\n",
       "      <td>North York</td>\n",
       "      <td>Bathurst Manor, Downsview North, Wilson Heights</td>\n",
       "    </tr>\n",
       "    <tr>\n",
       "      <th>1</th>\n",
       "      <td>M8Z</td>\n",
       "      <td>Etobicoke</td>\n",
       "      <td>Kingsway Park South West, Mimico NW, The Queen...</td>\n",
       "    </tr>\n",
       "    <tr>\n",
       "      <th>2</th>\n",
       "      <td>M9M</td>\n",
       "      <td>North York</td>\n",
       "      <td>Emery, Humberlea</td>\n",
       "    </tr>\n",
       "    <tr>\n",
       "      <th>3</th>\n",
       "      <td>M6K</td>\n",
       "      <td>West Toronto</td>\n",
       "      <td>Brockton, Exhibition Place, Parkdale Village</td>\n",
       "    </tr>\n",
       "    <tr>\n",
       "      <th>4</th>\n",
       "      <td>M6B</td>\n",
       "      <td>North York</td>\n",
       "      <td>Glencairn</td>\n",
       "    </tr>\n",
       "    <tr>\n",
       "      <th>5</th>\n",
       "      <td>M4C</td>\n",
       "      <td>East York</td>\n",
       "      <td>Woodbine Heights</td>\n",
       "    </tr>\n",
       "    <tr>\n",
       "      <th>6</th>\n",
       "      <td>M4M</td>\n",
       "      <td>East Toronto</td>\n",
       "      <td>Studio District</td>\n",
       "    </tr>\n",
       "    <tr>\n",
       "      <th>7</th>\n",
       "      <td>M9B</td>\n",
       "      <td>Etobicoke</td>\n",
       "      <td>Cloverdale, Islington, Martin Grove, Princess ...</td>\n",
       "    </tr>\n",
       "    <tr>\n",
       "      <th>8</th>\n",
       "      <td>M1J</td>\n",
       "      <td>Scarborough</td>\n",
       "      <td>Scarborough Village</td>\n",
       "    </tr>\n",
       "    <tr>\n",
       "      <th>9</th>\n",
       "      <td>M3K</td>\n",
       "      <td>North York</td>\n",
       "      <td>CFB Toronto, Downsview East</td>\n",
       "    </tr>\n",
       "    <tr>\n",
       "      <th>10</th>\n",
       "      <td>M5W</td>\n",
       "      <td>Downtown Toronto</td>\n",
       "      <td>Stn A PO Boxes 25 The Esplanade</td>\n",
       "    </tr>\n",
       "    <tr>\n",
       "      <th>11</th>\n",
       "      <td>M8X</td>\n",
       "      <td>Etobicoke</td>\n",
       "      <td>The Kingsway, Montgomery Road, Old Mill North</td>\n",
       "    </tr>\n",
       "  </tbody>\n",
       "</table>\n",
       "</div>"
      ],
      "text/plain": [
       "   PostalCode           Borough  \\\n",
       "0         M3H        North York   \n",
       "1         M8Z         Etobicoke   \n",
       "2         M9M        North York   \n",
       "3         M6K      West Toronto   \n",
       "4         M6B        North York   \n",
       "5         M4C         East York   \n",
       "6         M4M      East Toronto   \n",
       "7         M9B         Etobicoke   \n",
       "8         M1J       Scarborough   \n",
       "9         M3K        North York   \n",
       "10        M5W  Downtown Toronto   \n",
       "11        M8X         Etobicoke   \n",
       "\n",
       "                                        Neighbourhood  \n",
       "0     Bathurst Manor, Downsview North, Wilson Heights  \n",
       "1   Kingsway Park South West, Mimico NW, The Queen...  \n",
       "2                                    Emery, Humberlea  \n",
       "3        Brockton, Exhibition Place, Parkdale Village  \n",
       "4                                           Glencairn  \n",
       "5                                    Woodbine Heights  \n",
       "6                                     Studio District  \n",
       "7   Cloverdale, Islington, Martin Grove, Princess ...  \n",
       "8                                 Scarborough Village  \n",
       "9                         CFB Toronto, Downsview East  \n",
       "10                    Stn A PO Boxes 25 The Esplanade  \n",
       "11      The Kingsway, Montgomery Road, Old Mill North  "
      ]
     },
     "execution_count": 141,
     "metadata": {},
     "output_type": "execute_result"
    }
   ],
   "source": [
    "table_df.head(12)"
   ]
  },
  {
   "cell_type": "code",
   "execution_count": 142,
   "metadata": {},
   "outputs": [
    {
     "data": {
      "text/plain": [
       "(103, 3)"
      ]
     },
     "execution_count": 142,
     "metadata": {},
     "output_type": "execute_result"
    }
   ],
   "source": [
    "table_df.shape"
   ]
  },
  {
   "cell_type": "markdown",
   "metadata": {},
   "source": [
    "## 2: Getting GPS coordinates for the postal codes\n",
    "The assignment tells us to use either the geocoder library, which did not work well then and doesn't seem to work at all now. I used the CSV linked to, though I'll comment it would have been pretty easy to use the Nominatim part of geopy for this!"
   ]
  },
  {
   "cell_type": "code",
   "execution_count": 144,
   "metadata": {},
   "outputs": [],
   "source": [
    "coords = pd.read_csv(\"Geospatial_Coordinates.csv\")"
   ]
  },
  {
   "cell_type": "code",
   "execution_count": 145,
   "metadata": {},
   "outputs": [
    {
     "data": {
      "text/html": [
       "<div>\n",
       "<style scoped>\n",
       "    .dataframe tbody tr th:only-of-type {\n",
       "        vertical-align: middle;\n",
       "    }\n",
       "\n",
       "    .dataframe tbody tr th {\n",
       "        vertical-align: top;\n",
       "    }\n",
       "\n",
       "    .dataframe thead th {\n",
       "        text-align: right;\n",
       "    }\n",
       "</style>\n",
       "<table border=\"1\" class=\"dataframe\">\n",
       "  <thead>\n",
       "    <tr style=\"text-align: right;\">\n",
       "      <th></th>\n",
       "      <th>Postal Code</th>\n",
       "      <th>Latitude</th>\n",
       "      <th>Longitude</th>\n",
       "    </tr>\n",
       "  </thead>\n",
       "  <tbody>\n",
       "    <tr>\n",
       "      <th>0</th>\n",
       "      <td>M1B</td>\n",
       "      <td>43.806686</td>\n",
       "      <td>-79.194353</td>\n",
       "    </tr>\n",
       "    <tr>\n",
       "      <th>1</th>\n",
       "      <td>M1C</td>\n",
       "      <td>43.784535</td>\n",
       "      <td>-79.160497</td>\n",
       "    </tr>\n",
       "    <tr>\n",
       "      <th>2</th>\n",
       "      <td>M1E</td>\n",
       "      <td>43.763573</td>\n",
       "      <td>-79.188711</td>\n",
       "    </tr>\n",
       "    <tr>\n",
       "      <th>3</th>\n",
       "      <td>M1G</td>\n",
       "      <td>43.770992</td>\n",
       "      <td>-79.216917</td>\n",
       "    </tr>\n",
       "    <tr>\n",
       "      <th>4</th>\n",
       "      <td>M1H</td>\n",
       "      <td>43.773136</td>\n",
       "      <td>-79.239476</td>\n",
       "    </tr>\n",
       "  </tbody>\n",
       "</table>\n",
       "</div>"
      ],
      "text/plain": [
       "  Postal Code   Latitude  Longitude\n",
       "0         M1B  43.806686 -79.194353\n",
       "1         M1C  43.784535 -79.160497\n",
       "2         M1E  43.763573 -79.188711\n",
       "3         M1G  43.770992 -79.216917\n",
       "4         M1H  43.773136 -79.239476"
      ]
     },
     "execution_count": 145,
     "metadata": {},
     "output_type": "execute_result"
    }
   ],
   "source": [
    "coords.head()"
   ]
  },
  {
   "cell_type": "code",
   "execution_count": 147,
   "metadata": {},
   "outputs": [],
   "source": [
    "coords.columns = [\"PostalCode\", \"Latitude\", \"Longitude\"]"
   ]
  },
  {
   "cell_type": "markdown",
   "metadata": {},
   "source": [
    "Now we join the two DataFrames by first setting the index to \"PostalCode\". This nicely adds the columns with GPS coordinates to the left of our existing columns!"
   ]
  },
  {
   "cell_type": "code",
   "execution_count": 152,
   "metadata": {},
   "outputs": [],
   "source": [
    "table_df = table_df.set_index(\"PostalCode\").join(other=coords.set_index(\"PostalCode\"))"
   ]
  },
  {
   "cell_type": "code",
   "execution_count": 154,
   "metadata": {},
   "outputs": [
    {
     "data": {
      "text/html": [
       "<div>\n",
       "<style scoped>\n",
       "    .dataframe tbody tr th:only-of-type {\n",
       "        vertical-align: middle;\n",
       "    }\n",
       "\n",
       "    .dataframe tbody tr th {\n",
       "        vertical-align: top;\n",
       "    }\n",
       "\n",
       "    .dataframe thead th {\n",
       "        text-align: right;\n",
       "    }\n",
       "</style>\n",
       "<table border=\"1\" class=\"dataframe\">\n",
       "  <thead>\n",
       "    <tr style=\"text-align: right;\">\n",
       "      <th></th>\n",
       "      <th>Borough</th>\n",
       "      <th>Neighbourhood</th>\n",
       "      <th>Latitude</th>\n",
       "      <th>Longitude</th>\n",
       "    </tr>\n",
       "    <tr>\n",
       "      <th>PostalCode</th>\n",
       "      <th></th>\n",
       "      <th></th>\n",
       "      <th></th>\n",
       "      <th></th>\n",
       "    </tr>\n",
       "  </thead>\n",
       "  <tbody>\n",
       "    <tr>\n",
       "      <th>M3H</th>\n",
       "      <td>North York</td>\n",
       "      <td>Bathurst Manor, Downsview North, Wilson Heights</td>\n",
       "      <td>43.754328</td>\n",
       "      <td>-79.442259</td>\n",
       "    </tr>\n",
       "    <tr>\n",
       "      <th>M8Z</th>\n",
       "      <td>Etobicoke</td>\n",
       "      <td>Kingsway Park South West, Mimico NW, The Queen...</td>\n",
       "      <td>43.628841</td>\n",
       "      <td>-79.520999</td>\n",
       "    </tr>\n",
       "    <tr>\n",
       "      <th>M9M</th>\n",
       "      <td>North York</td>\n",
       "      <td>Emery, Humberlea</td>\n",
       "      <td>43.724766</td>\n",
       "      <td>-79.532242</td>\n",
       "    </tr>\n",
       "    <tr>\n",
       "      <th>M6K</th>\n",
       "      <td>West Toronto</td>\n",
       "      <td>Brockton, Exhibition Place, Parkdale Village</td>\n",
       "      <td>43.636847</td>\n",
       "      <td>-79.428191</td>\n",
       "    </tr>\n",
       "    <tr>\n",
       "      <th>M6B</th>\n",
       "      <td>North York</td>\n",
       "      <td>Glencairn</td>\n",
       "      <td>43.709577</td>\n",
       "      <td>-79.445073</td>\n",
       "    </tr>\n",
       "  </tbody>\n",
       "</table>\n",
       "</div>"
      ],
      "text/plain": [
       "                 Borough                                      Neighbourhood  \\\n",
       "PostalCode                                                                    \n",
       "M3H           North York    Bathurst Manor, Downsview North, Wilson Heights   \n",
       "M8Z            Etobicoke  Kingsway Park South West, Mimico NW, The Queen...   \n",
       "M9M           North York                                   Emery, Humberlea   \n",
       "M6K         West Toronto       Brockton, Exhibition Place, Parkdale Village   \n",
       "M6B           North York                                          Glencairn   \n",
       "\n",
       "             Latitude  Longitude  \n",
       "PostalCode                        \n",
       "M3H         43.754328 -79.442259  \n",
       "M8Z         43.628841 -79.520999  \n",
       "M9M         43.724766 -79.532242  \n",
       "M6K         43.636847 -79.428191  \n",
       "M6B         43.709577 -79.445073  "
      ]
     },
     "execution_count": 154,
     "metadata": {},
     "output_type": "execute_result"
    }
   ],
   "source": [
    "# Sanity check at this point...\n",
    "table_df.head()"
   ]
  },
  {
   "cell_type": "markdown",
   "metadata": {},
   "source": [
    "## 3: Some analysis of the data\n",
    "There are probably lots of interesting things to be done with this data, but honestly I'm too excited for weeks 4 and 5, for which I already have an idea for a data science project relevant to my life, so I'm going to repeat the analysis we did for Manhattan."
   ]
  },
  {
   "cell_type": "code",
   "execution_count": null,
   "metadata": {},
   "outputs": [],
   "source": []
  }
 ],
 "metadata": {
  "kernelspec": {
   "display_name": "Python 3",
   "language": "python",
   "name": "python3"
  },
  "language_info": {
   "codemirror_mode": {
    "name": "ipython",
    "version": 3
   },
   "file_extension": ".py",
   "mimetype": "text/x-python",
   "name": "python",
   "nbconvert_exporter": "python",
   "pygments_lexer": "ipython3",
   "version": "3.7.4"
  }
 },
 "nbformat": 4,
 "nbformat_minor": 4
}
